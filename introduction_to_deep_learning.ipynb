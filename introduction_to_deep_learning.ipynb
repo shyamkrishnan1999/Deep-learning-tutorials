{
  "nbformat": 4,
  "nbformat_minor": 0,
  "metadata": {
    "colab": {
      "name": "introduction to deep learning.ipynb",
      "provenance": [],
      "authorship_tag": "ABX9TyMYWApj/OM3sn32w/S+L/BP",
      "include_colab_link": true
    },
    "kernelspec": {
      "name": "python3",
      "display_name": "Python 3"
    }
  },
  "cells": [
    {
      "cell_type": "markdown",
      "metadata": {
        "id": "view-in-github",
        "colab_type": "text"
      },
      "source": [
        "<a href=\"https://colab.research.google.com/github/shyamkrishnan1999/Deep-learning-tutorials/blob/master/introduction_to_deep_learning.ipynb\" target=\"_parent\"><img src=\"https://colab.research.google.com/assets/colab-badge.svg\" alt=\"Open In Colab\"/></a>"
      ]
    },
    {
      "cell_type": "code",
      "metadata": {
        "id": "zWU0BIlZ_01_",
        "colab_type": "code",
        "colab": {
          "base_uri": "https://localhost:8080/",
          "height": 51
        },
        "outputId": "58ee5a36-a6c1-463b-ee5a-c9cca6205f12"
      },
      "source": [
        "#importing tensorflow and loading dataset\n",
        "import tensorflow as tf\n",
        "mnist=tf.keras.datasets.mnist\n",
        "(x_train,y_train),(x_test,y_test)=mnist.load_data()"
      ],
      "execution_count": 2,
      "outputs": [
        {
          "output_type": "stream",
          "text": [
            "Downloading data from https://storage.googleapis.com/tensorflow/tf-keras-datasets/mnist.npz\n",
            "11493376/11490434 [==============================] - 0s 0us/step\n"
          ],
          "name": "stdout"
        }
      ]
    },
    {
      "cell_type": "code",
      "metadata": {
        "id": "ANFmG86NDXet",
        "colab_type": "code",
        "colab": {}
      },
      "source": [
        "#normalizing data\n",
        "x_train=tf.keras.utils.normalize(x_train,axis=1)\n",
        "x_test=tf.keras.utils.normalize(x_test,axis=1)"
      ],
      "execution_count": 5,
      "outputs": []
    },
    {
      "cell_type": "code",
      "metadata": {
        "id": "omri6_CSEdJt",
        "colab_type": "code",
        "colab": {}
      },
      "source": [
        "#Buliding our model\n",
        "model=tf.keras.models.Sequential()\n",
        "\n",
        "#Reshaping our neural layers\n",
        "model.add(tf.keras.layers.Flatten())\n",
        "\n",
        "#Adding two input neural network layers\n",
        "model.add(tf.keras.layers.Dense(128,activation=tf.nn.relu))\n",
        "model.add(tf.keras.layers.Dense(128,activation=tf.nn.relu))\n",
        "\n",
        "#Finally the output layer\n",
        "model.add(tf.keras.layers.Dense(10,activation=tf.nn.softmax))  "
      ],
      "execution_count": 7,
      "outputs": []
    },
    {
      "cell_type": "code",
      "metadata": {
        "id": "95wlaFYaGGhp",
        "colab_type": "code",
        "colab": {
          "base_uri": "https://localhost:8080/",
          "height": 136
        },
        "outputId": "96cd0180-69da-42a4-dbd5-d6c7645ff693"
      },
      "source": [
        "#compiling our model\n",
        "model.compile(optimizer='adam',loss='sparse_categorical_crossentropy',metrics=['accuracy'])\n",
        "\n",
        "#fitting our model\n",
        "model.fit(x_train,y_train,epochs=3)"
      ],
      "execution_count": 8,
      "outputs": [
        {
          "output_type": "stream",
          "text": [
            "Epoch 1/3\n",
            "1875/1875 [==============================] - 3s 2ms/step - loss: 0.2607 - accuracy: 0.9236\n",
            "Epoch 2/3\n",
            "1875/1875 [==============================] - 4s 2ms/step - loss: 0.1057 - accuracy: 0.9686\n",
            "Epoch 3/3\n",
            "1875/1875 [==============================] - 4s 2ms/step - loss: 0.0729 - accuracy: 0.9772\n"
          ],
          "name": "stdout"
        },
        {
          "output_type": "execute_result",
          "data": {
            "text/plain": [
              "<tensorflow.python.keras.callbacks.History at 0x7f3b17f4ec88>"
            ]
          },
          "metadata": {
            "tags": []
          },
          "execution_count": 8
        }
      ]
    },
    {
      "cell_type": "code",
      "metadata": {
        "id": "xfVzluTUHE5V",
        "colab_type": "code",
        "colab": {
          "base_uri": "https://localhost:8080/",
          "height": 51
        },
        "outputId": "d068014b-2440-408b-9a93-be3f85b3d054"
      },
      "source": [
        "#checking whether the model has overfitten the values or not\n",
        "val_loss,val_acc=model.evaluate(x_test,y_test)\n",
        "print(val_loss,val_acc)"
      ],
      "execution_count": 10,
      "outputs": [
        {
          "output_type": "stream",
          "text": [
            "313/313 [==============================] - 0s 1ms/step - loss: 0.0942 - accuracy: 0.9725\n",
            "0.09422668814659119 0.9725000262260437\n"
          ],
          "name": "stdout"
        }
      ]
    },
    {
      "cell_type": "code",
      "metadata": {
        "id": "iul2-6kWIYAZ",
        "colab_type": "code",
        "colab": {
          "base_uri": "https://localhost:8080/",
          "height": 34
        },
        "outputId": "90ebc54f-33a7-4d1a-fa89-4f7e5b1c3225"
      },
      "source": [
        "#saving our model and reloading it\n",
        "model.save('num_test')\n",
        "new_model=tf.keras.models.load_model('num_test')"
      ],
      "execution_count": 13,
      "outputs": [
        {
          "output_type": "stream",
          "text": [
            "INFO:tensorflow:Assets written to: num_test/assets\n"
          ],
          "name": "stdout"
        }
      ]
    },
    {
      "cell_type": "code",
      "metadata": {
        "id": "L99LXL76I3NN",
        "colab_type": "code",
        "colab": {
          "base_uri": "https://localhost:8080/",
          "height": 238
        },
        "outputId": "c68e77a7-9f4e-4046-dc79-bfaa8223c056"
      },
      "source": [
        "#predicting values \n",
        "prediction=new_model.predict(x_test)\n",
        "prediction"
      ],
      "execution_count": 14,
      "outputs": [
        {
          "output_type": "execute_result",
          "data": {
            "text/plain": [
              "array([[1.06692444e-09, 1.62549952e-07, 1.23808456e-06, ...,\n",
              "        9.99912024e-01, 8.44851122e-09, 1.47920366e-06],\n",
              "       [1.22734345e-09, 5.89525932e-03, 9.94096756e-01, ...,\n",
              "        1.63670144e-08, 2.27495534e-07, 4.00430071e-11],\n",
              "       [1.80221605e-07, 9.99878764e-01, 1.19751376e-05, ...,\n",
              "        6.75066185e-05, 1.63780969e-05, 8.70335782e-07],\n",
              "       ...,\n",
              "       [1.49684964e-09, 1.89824107e-07, 5.40663407e-08, ...,\n",
              "        1.15402045e-05, 6.84420456e-07, 2.07079465e-05],\n",
              "       [5.39565974e-07, 9.28020108e-06, 2.26076065e-08, ...,\n",
              "        2.52339505e-05, 3.23347136e-04, 2.50687684e-08],\n",
              "       [2.51608640e-06, 6.62446027e-08, 3.67984541e-08, ...,\n",
              "        1.22827493e-09, 1.78548487e-06, 7.29080973e-09]], dtype=float32)"
            ]
          },
          "metadata": {
            "tags": []
          },
          "execution_count": 14
        }
      ]
    },
    {
      "cell_type": "code",
      "metadata": {
        "id": "4U4RoCTlJGEb",
        "colab_type": "code",
        "colab": {
          "base_uri": "https://localhost:8080/",
          "height": 34
        },
        "outputId": "01da5bff-056b-4c7e-dda1-a150fd9dd835"
      },
      "source": [
        "#using numpy to argmax values\n",
        "import numpy as np\n",
        "print(np.argmax(prediction[0]))"
      ],
      "execution_count": 16,
      "outputs": [
        {
          "output_type": "stream",
          "text": [
            "7\n"
          ],
          "name": "stdout"
        }
      ]
    },
    {
      "cell_type": "code",
      "metadata": {
        "id": "l8fOA5ZCChMr",
        "colab_type": "code",
        "colab": {
          "base_uri": "https://localhost:8080/",
          "height": 265
        },
        "outputId": "89a88f62-6ee2-4f7e-812a-e8f7e8bea712"
      },
      "source": [
        "#displaying image \n",
        "import matplotlib.pyplot as plt\n",
        "plt.imshow(x_test[0],cmap=plt.cm.binary)\n",
        "plt.show()"
      ],
      "execution_count": 17,
      "outputs": [
        {
          "output_type": "display_data",
          "data": {
            "image/png": "[encoded data removed]",
            "text/plain": [
              "<Figure size 432x288 with 1 Axes>"
            ]
          },
          "metadata": {
            "tags": [],
            "needs_background": "light"
          }
        }
      ]
    },
    {
      "cell_type": "code",
      "metadata": {
        "id": "isoevLmYDCLj",
        "colab_type": "code",
        "colab": {}
      },
      "source": [
        ""
      ],
      "execution_count": null,
      "outputs": []
    }
  ]
}